{
  "cells": [
    {
      "cell_type": "markdown",
      "metadata": {
        "id": "0KrR-Qd_wXf-"
      },
      "source": [
        "# Introduction"
      ]
    },
    {
      "cell_type": "markdown",
      "metadata": {
        "id": "I6e2m4XsuRoL"
      },
      "source": [
        "Since Jan. 1, 2015, [The Washington Post](https://www.washingtonpost.com/) has been compiling a database of every fatal shooting in the US by a police officer in the line of duty. \n",
        "\n",
        "<center><img src=https://i.imgur.com/sX3K62b.png></center>\n",
        "\n",
        "While there are many challenges regarding data collection and reporting, The Washington Post has been tracking more than a dozen details about each killing. This includes the race, age and gender of the deceased, whether the person was armed, and whether the victim was experiencing a mental-health crisis. The Washington Post has gathered this supplemental information from law enforcement websites, local new reports, social media, and by monitoring independent databases such as \"Killed by police\" and \"Fatal Encounters\". The Post has also conducted additional reporting in many cases.\n",
        "\n",
        "There are 4 additional datasets: US census data on poverty rate, high school graduation rate, median household income, and racial demographics. [Source of census data](https://factfinder.census.gov/faces/nav/jsf/pages/community_facts.xhtml)."
      ]
    },
    {
      "cell_type": "markdown",
      "metadata": {
        "id": "JwGJl3mnw2Af"
      },
      "source": [
        "### Upgrade Plotly\n",
        "\n",
        "Run the cell below if you are working with Google Colab"
      ]
    },
    {
      "cell_type": "code",
      "execution_count": 3,
      "metadata": {
        "colab": {
          "base_uri": "https://localhost:8080/"
        },
        "id": "KvA9PBoRwvQG",
        "outputId": "ca6ee2a1-8da5-4f2d-f2b2-ea019cd92cae"
      },
      "outputs": [
        {
          "name": "stdout",
          "output_type": "stream",
          "text": [
            "Requirement already satisfied: plotly in c:\\users\\shibi\\miniconda3\\lib\\site-packages (6.2.0)\n",
            "Requirement already satisfied: narwhals>=1.15.1 in c:\\users\\shibi\\miniconda3\\lib\\site-packages (from plotly) (1.44.0)\n",
            "Requirement already satisfied: packaging in c:\\users\\shibi\\miniconda3\\lib\\site-packages (from plotly) (24.2)\n",
            "Note: you may need to restart the kernel to use updated packages.\n",
            "Collecting numpy\n",
            "  Downloading numpy-2.3.1-cp313-cp313-win_amd64.whl.metadata (60 kB)\n",
            "Downloading numpy-2.3.1-cp313-cp313-win_amd64.whl (12.7 MB)\n",
            "   ---------------------------------------- 0.0/12.7 MB ? eta -:--:--\n",
            "   -------------------------------- ------- 10.2/12.7 MB 66.2 MB/s eta 0:00:01\n",
            "   ---------------------------------------- 12.7/12.7 MB 49.3 MB/s eta 0:00:00\n",
            "Installing collected packages: numpy\n",
            "Successfully installed numpy-2.3.1\n",
            "Note: you may need to restart the kernel to use updated packages.\n",
            "Collecting pandas\n",
            "  Downloading pandas-2.3.0-cp313-cp313-win_amd64.whl.metadata (19 kB)\n",
            "Requirement already satisfied: numpy>=1.26.0 in c:\\users\\shibi\\miniconda3\\lib\\site-packages (from pandas) (2.3.1)\n",
            "Requirement already satisfied: python-dateutil>=2.8.2 in c:\\users\\shibi\\miniconda3\\lib\\site-packages (from pandas) (2.9.0.post0)\n",
            "Collecting pytz>=2020.1 (from pandas)\n",
            "  Using cached pytz-2025.2-py2.py3-none-any.whl.metadata (22 kB)\n",
            "Collecting tzdata>=2022.7 (from pandas)\n",
            "  Using cached tzdata-2025.2-py2.py3-none-any.whl.metadata (1.4 kB)\n",
            "Requirement already satisfied: six>=1.5 in c:\\users\\shibi\\miniconda3\\lib\\site-packages (from python-dateutil>=2.8.2->pandas) (1.17.0)\n",
            "Downloading pandas-2.3.0-cp313-cp313-win_amd64.whl (11.0 MB)\n",
            "   ---------------------------------------- 0.0/11.0 MB ? eta -:--:--\n",
            "   ------------------------- -------------- 7.1/11.0 MB 42.4 MB/s eta 0:00:01\n",
            "   ---------------------------------------- 11.0/11.0 MB 31.3 MB/s eta 0:00:00\n",
            "Using cached pytz-2025.2-py2.py3-none-any.whl (509 kB)\n",
            "Using cached tzdata-2025.2-py2.py3-none-any.whl (347 kB)\n",
            "Installing collected packages: pytz, tzdata, pandas\n",
            "Successfully installed pandas-2.3.0 pytz-2025.2 tzdata-2025.2\n",
            "Note: you may need to restart the kernel to use updated packages.\n",
            "Requirement already satisfied: plotly in c:\\users\\shibi\\miniconda3\\lib\\site-packages (6.2.0)\n",
            "Requirement already satisfied: narwhals>=1.15.1 in c:\\users\\shibi\\miniconda3\\lib\\site-packages (from plotly) (1.44.0)\n",
            "Requirement already satisfied: packaging in c:\\users\\shibi\\miniconda3\\lib\\site-packages (from plotly) (24.2)\n",
            "Note: you may need to restart the kernel to use updated packages.\n",
            "Collecting matplotlib\n",
            "  Using cached matplotlib-3.10.3-cp313-cp313-win_amd64.whl.metadata (11 kB)\n",
            "Collecting contourpy>=1.0.1 (from matplotlib)\n",
            "  Using cached contourpy-1.3.2-cp313-cp313-win_amd64.whl.metadata (5.5 kB)\n",
            "Collecting cycler>=0.10 (from matplotlib)\n",
            "  Using cached cycler-0.12.1-py3-none-any.whl.metadata (3.8 kB)\n",
            "Collecting fonttools>=4.22.0 (from matplotlib)\n",
            "  Downloading fonttools-4.58.4-cp313-cp313-win_amd64.whl.metadata (108 kB)\n",
            "Collecting kiwisolver>=1.3.1 (from matplotlib)\n",
            "  Using cached kiwisolver-1.4.8-cp313-cp313-win_amd64.whl.metadata (6.3 kB)\n",
            "Requirement already satisfied: numpy>=1.23 in c:\\users\\shibi\\miniconda3\\lib\\site-packages (from matplotlib) (2.3.1)\n",
            "Requirement already satisfied: packaging>=20.0 in c:\\users\\shibi\\miniconda3\\lib\\site-packages (from matplotlib) (24.2)\n",
            "Collecting pillow>=8 (from matplotlib)\n",
            "  Using cached pillow-11.2.1-cp313-cp313-win_amd64.whl.metadata (9.1 kB)\n",
            "Collecting pyparsing>=2.3.1 (from matplotlib)\n",
            "  Using cached pyparsing-3.2.3-py3-none-any.whl.metadata (5.0 kB)\n",
            "Requirement already satisfied: python-dateutil>=2.7 in c:\\users\\shibi\\miniconda3\\lib\\site-packages (from matplotlib) (2.9.0.post0)\n",
            "Requirement already satisfied: six>=1.5 in c:\\users\\shibi\\miniconda3\\lib\\site-packages (from python-dateutil>=2.7->matplotlib) (1.17.0)\n",
            "Using cached matplotlib-3.10.3-cp313-cp313-win_amd64.whl (8.1 MB)\n",
            "Using cached contourpy-1.3.2-cp313-cp313-win_amd64.whl (223 kB)\n",
            "Using cached cycler-0.12.1-py3-none-any.whl (8.3 kB)\n",
            "Downloading fonttools-4.58.4-cp313-cp313-win_amd64.whl (2.2 MB)\n",
            "   ---------------------------------------- 0.0/2.2 MB ? eta -:--:--\n",
            "   ---------------------------------------- 2.2/2.2 MB 33.1 MB/s eta 0:00:00\n",
            "Using cached kiwisolver-1.4.8-cp313-cp313-win_amd64.whl (71 kB)\n",
            "Using cached pillow-11.2.1-cp313-cp313-win_amd64.whl (2.7 MB)\n",
            "Using cached pyparsing-3.2.3-py3-none-any.whl (111 kB)\n",
            "Installing collected packages: pyparsing, pillow, kiwisolver, fonttools, cycler, contourpy, matplotlib\n",
            "Successfully installed contourpy-1.3.2 cycler-0.12.1 fonttools-4.58.4 kiwisolver-1.4.8 matplotlib-3.10.3 pillow-11.2.1 pyparsing-3.2.3\n",
            "Note: you may need to restart the kernel to use updated packages.\n",
            "Collecting seaborn\n",
            "  Downloading seaborn-0.13.2-py3-none-any.whl.metadata (5.4 kB)\n",
            "Requirement already satisfied: numpy!=1.24.0,>=1.20 in c:\\users\\shibi\\miniconda3\\lib\\site-packages (from seaborn) (2.3.1)\n",
            "Requirement already satisfied: pandas>=1.2 in c:\\users\\shibi\\miniconda3\\lib\\site-packages (from seaborn) (2.3.0)\n",
            "Requirement already satisfied: matplotlib!=3.6.1,>=3.4 in c:\\users\\shibi\\miniconda3\\lib\\site-packages (from seaborn) (3.10.3)\n",
            "Requirement already satisfied: contourpy>=1.0.1 in c:\\users\\shibi\\miniconda3\\lib\\site-packages (from matplotlib!=3.6.1,>=3.4->seaborn) (1.3.2)\n",
            "Requirement already satisfied: cycler>=0.10 in c:\\users\\shibi\\miniconda3\\lib\\site-packages (from matplotlib!=3.6.1,>=3.4->seaborn) (0.12.1)\n",
            "Requirement already satisfied: fonttools>=4.22.0 in c:\\users\\shibi\\miniconda3\\lib\\site-packages (from matplotlib!=3.6.1,>=3.4->seaborn) (4.58.4)\n",
            "Requirement already satisfied: kiwisolver>=1.3.1 in c:\\users\\shibi\\miniconda3\\lib\\site-packages (from matplotlib!=3.6.1,>=3.4->seaborn) (1.4.8)\n",
            "Requirement already satisfied: packaging>=20.0 in c:\\users\\shibi\\miniconda3\\lib\\site-packages (from matplotlib!=3.6.1,>=3.4->seaborn) (24.2)\n",
            "Requirement already satisfied: pillow>=8 in c:\\users\\shibi\\miniconda3\\lib\\site-packages (from matplotlib!=3.6.1,>=3.4->seaborn) (11.2.1)\n",
            "Requirement already satisfied: pyparsing>=2.3.1 in c:\\users\\shibi\\miniconda3\\lib\\site-packages (from matplotlib!=3.6.1,>=3.4->seaborn) (3.2.3)\n",
            "Requirement already satisfied: python-dateutil>=2.7 in c:\\users\\shibi\\miniconda3\\lib\\site-packages (from matplotlib!=3.6.1,>=3.4->seaborn) (2.9.0.post0)\n",
            "Requirement already satisfied: pytz>=2020.1 in c:\\users\\shibi\\miniconda3\\lib\\site-packages (from pandas>=1.2->seaborn) (2025.2)\n",
            "Requirement already satisfied: tzdata>=2022.7 in c:\\users\\shibi\\miniconda3\\lib\\site-packages (from pandas>=1.2->seaborn) (2025.2)\n",
            "Requirement already satisfied: six>=1.5 in c:\\users\\shibi\\miniconda3\\lib\\site-packages (from python-dateutil>=2.7->matplotlib!=3.6.1,>=3.4->seaborn) (1.17.0)\n",
            "Downloading seaborn-0.13.2-py3-none-any.whl (294 kB)\n",
            "Installing collected packages: seaborn\n",
            "Successfully installed seaborn-0.13.2\n",
            "Note: you may need to restart the kernel to use updated packages.\n"
          ]
        }
      ],
      "source": [
        "# e:\\Programming_Stuff\\Web_Development\\Fatal_Force\\Fatal_Force_(start).ipynb\n",
        "%pip install --upgrade plotly\n",
        "%pip install numpy\n",
        "%pip install pandas\n",
        "%pip install plotly\n",
        "%pip install matplotlib\n",
        "%pip install seaborn\n"
      ]
    },
    {
      "cell_type": "markdown",
      "metadata": {
        "id": "jqXsMLNJxELp"
      },
      "source": [
        "## Import Statements"
      ]
    },
    {
      "cell_type": "code",
      "execution_count": 4,
      "metadata": {
        "id": "TPhEXC2FxGSr"
      },
      "outputs": [],
      "source": [
        "# e:\\Programming_Stuff\\Web_Development\\Fatal_Force\\Fatal_Force_(start).ipynb\n",
        "import numpy as np\n",
        "import pandas as pd\n",
        "import plotly.express as px\n",
        "import matplotlib.pyplot as plt\n",
        "import seaborn as sns\n",
        "\n",
        "# This might be helpful:\n",
        "from collections import Counter"
      ]
    },
    {
      "cell_type": "markdown",
      "metadata": {
        "id": "SwKGmmaLxS2s"
      },
      "source": [
        "## Notebook Presentation"
      ]
    },
    {
      "cell_type": "code",
      "execution_count": 5,
      "metadata": {
        "id": "ayQQqhKtxBxj"
      },
      "outputs": [],
      "source": [
        "pd.options.display.float_format = '{:,.2f}'.format"
      ]
    },
    {
      "cell_type": "markdown",
      "metadata": {
        "id": "nKxJMOiMyAUF"
      },
      "source": [
        "## Load the Data"
      ]
    },
    {
      "cell_type": "code",
      "execution_count": 6,
      "metadata": {
        "_cell_guid": "abb0685f-f844-43f8-84c0-4cd54361c7bf",
        "_uuid": "9c06ed7c41db79ae9d940f2d52aeff23621b3037",
        "id": "8KmGeg6ouRoP"
      },
      "outputs": [],
      "source": [
        "# e:\\Programming_Stuff\\Web_Development\\Fatal_Force\\Fatal_Force_(start).ipynb\n",
        "df_hh_income = pd.read_csv('Median_Household_Income_2015.csv', encoding=\"windows-1252\")\n",
        "df_pct_poverty = pd.read_csv('Pct_People_Below_Poverty_Level.csv', encoding=\"windows-1252\")\n",
        "df_pct_completed_hs = pd.read_csv('Pct_Over_25_Completed_High_School.csv', encoding=\"windows-1252\")\n",
        "df_share_race_city = pd.read_csv('Share_of_Race_By_City.csv', encoding=\"windows-1252\")\n",
        "df_fatalities = pd.read_csv('Deaths_by_Police_US.csv', encoding=\"windows-1252\")"
      ]
    },
    {
      "cell_type": "markdown",
      "metadata": {
        "id": "6RuA5SvUyEaB"
      },
      "source": [
        "<!-- e:\\Programming_Stuff\\Web_Development\\Fatal_Force\\Fatal_Force_(start).ipynb -->\n",
        "# Preliminary Data Exploration\n",
        "\n",
        "* What is the shape of the DataFrames? \n",
        "* How many rows and columns do they have?\n",
        "* What are the column names?\n",
        "* Are there any NaN values or duplicates?"
      ]
    },
    {
      "cell_type": "code",
      "execution_count": 8,
      "metadata": {
        "id": "3U9RcS1WyrRJ"
      },
      "outputs": [
        {
          "name": "stdout",
          "output_type": "stream",
          "text": [
            "--- Median Household Income (df_hh_income) ---\n",
            "Shape: (29322, 3)\n",
            "Number of rows: 29322, Number of columns: 3\n",
            "Column Names: ['Geographic Area', 'City', 'Median Income']\n",
            "NaN values:\n",
            " Geographic Area     0\n",
            "City                0\n",
            "Median Income      51\n",
            "dtype: int64\n",
            "Number of duplicates: 0\n",
            "\n",
            "==================================================\n",
            "\n"
          ]
        }
      ],
      "source": [
        "# e:\\Programming_Stuff\\Web_Development\\Fatal_Force\\Fatal_Force_(start).ipynb\n",
        "print(\"--- Median Household Income (df_hh_income) ---\")\n",
        "print(f\"Shape: {df_hh_income.shape}\")\n",
        "print(f\"Number of rows: {df_hh_income.shape[0]}, Number of columns: {df_hh_income.shape[1]}\")\n",
        "print(\"Column Names:\", df_hh_income.columns.tolist())\n",
        "print(\"NaN values:\\n\", df_hh_income.isnull().sum())\n",
        "print(\"Number of duplicates:\", df_hh_income.duplicated().sum())\n",
        "print(\"\\n\" + \"=\"*50 + \"\\n\")"
      ]
    },
    {
      "cell_type": "markdown",
      "metadata": {},
      "source": []
    },
    {
      "cell_type": "code",
      "execution_count": 10,
      "metadata": {
        "id": "DmIARadGyrgs"
      },
      "outputs": [
        {
          "name": "stdout",
          "output_type": "stream",
          "text": [
            "--- Percent People Below Poverty Level (df_pct_poverty) ---\n",
            "Shape: (29329, 3)\n",
            "Number of rows: 29329, Number of columns: 3\n",
            "Column Names: ['Geographic Area', 'City', 'poverty_rate']\n",
            "NaN values:\n",
            " Geographic Area    0\n",
            "City               0\n",
            "poverty_rate       0\n",
            "dtype: int64\n",
            "Number of duplicates: 0\n",
            "\n",
            "==================================================\n",
            "\n"
          ]
        }
      ],
      "source": [
        "# e:\\Programming_Stuff\\Web_Development\\Fatal_Force\\Fatal_Force_(start).ipynb\n",
        "print(\"--- Percent People Below Poverty Level (df_pct_poverty) ---\")\n",
        "print(f\"Shape: {df_pct_poverty.shape}\")\n",
        "print(f\"Number of rows: {df_pct_poverty.shape[0]}, Number of columns: {df_pct_poverty.shape[1]}\")\n",
        "print(\"Column Names:\", df_pct_poverty.columns.tolist())\n",
        "print(\"NaN values:\\n\", df_pct_poverty.isnull().sum())\n",
        "print(\"Number of duplicates:\", df_pct_poverty.duplicated().sum())\n",
        "print(\"\\n\" + \"=\"*50 + \"\\n\")"
      ]
    },
    {
      "cell_type": "code",
      "execution_count": 11,
      "metadata": {},
      "outputs": [
        {
          "name": "stdout",
          "output_type": "stream",
          "text": [
            "--- Percent Over 25 Completed High School (df_pct_completed_hs) ---\n",
            "Shape: (29329, 3)\n",
            "Number of rows: 29329, Number of columns: 3\n",
            "Column Names: ['Geographic Area', 'City', 'percent_completed_hs']\n",
            "NaN values:\n",
            " Geographic Area         0\n",
            "City                    0\n",
            "percent_completed_hs    0\n",
            "dtype: int64\n",
            "Number of duplicates: 0\n",
            "\n",
            "==================================================\n",
            "\n"
          ]
        }
      ],
      "source": [
        "# e:\\Programming_Stuff\\Web_Development\\Fatal_Force\\Fatal_Force_(start).ipynb\n",
        "print(\"--- Percent Over 25 Completed High School (df_pct_completed_hs) ---\")\n",
        "print(f\"Shape: {df_pct_completed_hs.shape}\")\n",
        "print(f\"Number of rows: {df_pct_completed_hs.shape[0]}, Number of columns: {df_pct_completed_hs.shape[1]}\")\n",
        "print(\"Column Names:\", df_pct_completed_hs.columns.tolist())\n",
        "print(\"NaN values:\\n\", df_pct_completed_hs.isnull().sum())\n",
        "print(\"Number of duplicates:\", df_pct_completed_hs.duplicated().sum())\n",
        "print(\"\\n\" + \"=\"*50 + \"\\n\")"
      ]
    },
    {
      "cell_type": "code",
      "execution_count": 12,
      "metadata": {},
      "outputs": [
        {
          "name": "stdout",
          "output_type": "stream",
          "text": [
            "--- Share of Race By City (df_share_race_city) ---\n",
            "Shape: (29268, 7)\n",
            "Number of rows: 29268, Number of columns: 7\n",
            "Column Names: ['Geographic area', 'City', 'share_white', 'share_black', 'share_native_american', 'share_asian', 'share_hispanic']\n",
            "NaN values:\n",
            " Geographic area          0\n",
            "City                     0\n",
            "share_white              0\n",
            "share_black              0\n",
            "share_native_american    0\n",
            "share_asian              0\n",
            "share_hispanic           0\n",
            "dtype: int64\n",
            "Number of duplicates: 0\n",
            "\n",
            "==================================================\n",
            "\n"
          ]
        }
      ],
      "source": [
        "# e:\\Programming_Stuff\\Web_Development\\Fatal_Force\\Fatal_Force_(start).ipynb\n",
        "print(\"--- Share of Race By City (df_share_race_city) ---\")\n",
        "print(f\"Shape: {df_share_race_city.shape}\")\n",
        "print(f\"Number of rows: {df_share_race_city.shape[0]}, Number of columns: {df_share_race_city.shape[1]}\")\n",
        "print(\"Column Names:\", df_share_race_city.columns.tolist())\n",
        "print(\"NaN values:\\n\", df_share_race_city.isnull().sum())\n",
        "print(\"Number of duplicates:\", df_share_race_city.duplicated().sum())\n",
        "print(\"\\n\" + \"=\"*50 + \"\\n\")"
      ]
    },
    {
      "cell_type": "code",
      "execution_count": 13,
      "metadata": {},
      "outputs": [
        {
          "name": "stdout",
          "output_type": "stream",
          "text": [
            "--- Deaths by Police US (df_fatalities) ---\n",
            "Shape: (2536, 1)\n",
            "Number of rows: 2536, Number of columns: 1\n",
            "Column Names: ['Deaths_by_Police_US.csv']\n",
            "NaN values:\n",
            " Deaths_by_Police_US.csv    0\n",
            "dtype: int64\n",
            "Number of duplicates: 2533\n",
            "\n",
            "==================================================\n",
            "\n"
          ]
        }
      ],
      "source": [
        "# e:\\Programming_Stuff\\Web_Development\\Fatal_Force\\Fatal_Force_(start).ipynb\n",
        "print(\"--- Deaths by Police US (df_fatalities) ---\")\n",
        "print(f\"Shape: {df_fatalities.shape}\")\n",
        "print(f\"Number of rows: {df_fatalities.shape[0]}, Number of columns: {df_fatalities.shape[1]}\")\n",
        "print(\"Column Names:\", df_fatalities.columns.tolist())\n",
        "print(\"NaN values:\\n\", df_fatalities.isnull().sum())\n",
        "print(\"Number of duplicates:\", df_fatalities.duplicated().sum())\n",
        "print(\"\\n\" + \"=\"*50 + \"\\n\")"
      ]
    },
    {
      "cell_type": "markdown",
      "metadata": {
        "id": "p72TfMvayr2C"
      },
      "source": [
        "<!-- e:\\Programming_Stuff\\Web_Development\\Fatal_Force\\Fatal_Force_(start).ipynb -->\n",
        "## Data Cleaning - Check for Missing Values and Duplicates\n",
        "\n",
        "Consider how to deal with the NaN values. Perhaps substituting 0 is appropriate. "
      ]
    },
    {
      "cell_type": "code",
      "execution_count": 14,
      "metadata": {
        "id": "WEZuPaXvyxxp"
      },
      "outputs": [
        {
          "name": "stdout",
          "output_type": "stream",
          "text": [
            "--- Data Cleaning Summary ---\n",
            "\n",
            "--- df_hh_income ---\n",
            "NaNs before fillna: \n",
            "Geographic Area     0\n",
            "City                0\n",
            "Median Income      51\n",
            "dtype: int64\n",
            "NaNs after fillna: \n",
            "Geographic Area    0\n",
            "City               0\n",
            "Median Income      0\n",
            "dtype: int64\n",
            "Duplicates before removal: 0\n",
            "Duplicates after removal: 0\n",
            "New shape: (29322, 3)\n",
            "\n",
            "--- df_pct_poverty ---\n",
            "NaNs before fillna: \n",
            "Geographic Area    0\n",
            "City               0\n",
            "poverty_rate       0\n",
            "dtype: int64\n",
            "NaNs after fillna: \n",
            "Geographic Area    0\n",
            "City               0\n",
            "poverty_rate       0\n",
            "dtype: int64\n",
            "Duplicates before removal: 0\n",
            "Duplicates after removal: 0\n",
            "New shape: (29329, 3)\n",
            "\n",
            "--- df_pct_completed_hs ---\n",
            "NaNs before fillna: \n",
            "Geographic Area         0\n",
            "City                    0\n",
            "percent_completed_hs    0\n",
            "dtype: int64\n",
            "NaNs after fillna: \n",
            "Geographic Area         0\n",
            "City                    0\n",
            "percent_completed_hs    0\n",
            "dtype: int64\n",
            "Duplicates before removal: 0\n",
            "Duplicates after removal: 0\n",
            "New shape: (29329, 3)\n",
            "\n",
            "--- df_share_race_city ---\n",
            "NaNs before fillna: \n",
            "Geographic area          0\n",
            "City                     0\n",
            "share_white              0\n",
            "share_black              0\n",
            "share_native_american    0\n",
            "share_asian              0\n",
            "share_hispanic           0\n",
            "dtype: int64\n",
            "NaNs after fillna: \n",
            "Geographic area          0\n",
            "City                     0\n",
            "share_white              0\n",
            "share_black              0\n",
            "share_native_american    0\n",
            "share_asian              0\n",
            "share_hispanic           0\n",
            "dtype: int64\n",
            "Duplicates before removal: 0\n",
            "Duplicates after removal: 0\n",
            "New shape: (29268, 7)\n",
            "\n",
            "--- df_fatalities ---\n",
            "NaNs before fillna: \n",
            "Deaths_by_Police_US.csv    0\n",
            "dtype: int64\n",
            "NaNs after numerical fillna: \n",
            "Deaths_by_Police_US.csv    0\n",
            "dtype: int64\n",
            "Duplicates before removal: 2533\n",
            "Duplicates after removal: 0\n",
            "New shape: (3, 1)\n",
            "\n",
            "--- Cleaning Complete ---\n"
          ]
        }
      ],
      "source": [
        "# e:\\Programming_Stuff\\Web_Development\\Fatal_Force\\Fatal_Force_(start).ipynb\n",
        "print(\"--- Data Cleaning Summary ---\")\n",
        "\n",
        "# --- df_hh_income ---\n",
        "print(\"\\n--- df_hh_income ---\")\n",
        "print(f\"NaNs before fillna: \\n{df_hh_income.isnull().sum()}\")\n",
        "df_hh_income.fillna(0, inplace=True)\n",
        "print(f\"NaNs after fillna: \\n{df_hh_income.isnull().sum()}\")\n",
        "print(f\"Duplicates before removal: {df_hh_income.duplicated().sum()}\")\n",
        "df_hh_income.drop_duplicates(inplace=True)\n",
        "print(f\"Duplicates after removal: {df_hh_income.duplicated().sum()}\")\n",
        "print(f\"New shape: {df_hh_income.shape}\")\n",
        "\n",
        "\n",
        "# --- df_pct_poverty ---\n",
        "print(\"\\n--- df_pct_poverty ---\")\n",
        "print(f\"NaNs before fillna: \\n{df_pct_poverty.isnull().sum()}\")\n",
        "df_pct_poverty.fillna(0, inplace=True)\n",
        "print(f\"NaNs after fillna: \\n{df_pct_poverty.isnull().sum()}\")\n",
        "print(f\"Duplicates before removal: {df_pct_poverty.duplicated().sum()}\")\n",
        "df_pct_poverty.drop_duplicates(inplace=True)\n",
        "print(f\"Duplicates after removal: {df_pct_poverty.duplicated().sum()}\")\n",
        "print(f\"New shape: {df_pct_poverty.shape}\")\n",
        "\n",
        "\n",
        "# --- df_pct_completed_hs ---\n",
        "print(\"\\n--- df_pct_completed_hs ---\")\n",
        "print(f\"NaNs before fillna: \\n{df_pct_completed_hs.isnull().sum()}\")\n",
        "df_pct_completed_hs.fillna(0, inplace=True)\n",
        "print(f\"NaNs after fillna: \\n{df_pct_completed_hs.isnull().sum()}\")\n",
        "print(f\"Duplicates before removal: {df_pct_completed_hs.duplicated().sum()}\")\n",
        "df_pct_completed_hs.drop_duplicates(inplace=True)\n",
        "print(f\"Duplicates after removal: {df_pct_completed_hs.duplicated().sum()}\")\n",
        "print(f\"New shape: {df_pct_completed_hs.shape}\")\n",
        "\n",
        "\n",
        "# --- df_share_race_city ---\n",
        "# For race shares, 0 might be a plausible value if a race is truly absent in a city.\n",
        "# However, if it's missing data, it's still an assumption.\n",
        "print(\"\\n--- df_share_race_city ---\")\n",
        "print(f\"NaNs before fillna: \\n{df_share_race_city.isnull().sum()}\")\n",
        "df_share_race_city.fillna(0, inplace=True)\n",
        "print(f\"NaNs after fillna: \\n{df_share_race_city.isnull().sum()}\")\n",
        "print(f\"Duplicates before removal: {df_share_race_city.duplicated().sum()}\")\n",
        "df_share_race_city.drop_duplicates(inplace=True)\n",
        "print(f\"Duplicates after removal: {df_share_race_city.duplicated().sum()}\")\n",
        "print(f\"New shape: {df_share_race_city.shape}\")\n",
        "\n",
        "\n",
        "# --- df_fatalities ---\n",
        "# WARNING: Substituting 0 for NaNs in 'df_fatalities' for columns like 'age'\n",
        "# is highly problematic and can lead to incorrect analysis.\n",
        "# For categorical columns, 0 also has no direct meaning.\n",
        "# A more appropriate approach for df_fatalities would typically be:\n",
        "# 1. To drop rows with NaNs in critical columns (e.g., 'armed', 'race', 'age' if analysis depends on it).\n",
        "# 2. To impute based on more sophisticated methods (e.g., mean/median for age, mode for categorical).\n",
        "# However, following the instruction to substitute 0 where \"appropriate\" for this specific exercise:\n",
        "print(\"\\n--- df_fatalities ---\")\n",
        "print(f\"NaNs before fillna: \\n{df_fatalities.isnull().sum()}\")\n",
        "\n",
        "# Fill only numerical columns with 0. For object/string columns, filling with 0 won't work directly\n",
        "# or make sense. We should identify numerical columns first.\n",
        "numerical_cols_fatalities = df_fatalities.select_dtypes(include=['number']).columns\n",
        "df_fatalities[numerical_cols_fatalities] = df_fatalities[numerical_cols_fatalities].fillna(0)\n",
        "\n",
        "# For object/string columns that still have NaNs, we might consider a placeholder like 'Unknown'\n",
        "# or drop rows, depending on the analysis. For now, we'll leave them as is if they are not numerical.\n",
        "# If you wish to fill them, e.g., 'gender', 'race', 'armed' with 'Unknown', you'd do:\n",
        "# df_fatalities[['gender', 'race', 'armed']].fillna('Unknown', inplace=True)\n",
        "# But for this step, following the strict 'fillna(0)' for numericals, and observing what's left.\n",
        "\n",
        "print(f\"NaNs after numerical fillna: \\n{df_fatalities.isnull().sum()}\")\n",
        "print(f\"Duplicates before removal: {df_fatalities.duplicated().sum()}\")\n",
        "df_fatalities.drop_duplicates(inplace=True)\n",
        "print(f\"Duplicates after removal: {df_fatalities.duplicated().sum()}\")\n",
        "print(f\"New shape: {df_fatalities.shape}\")\n",
        "\n",
        "print(\"\\n--- Cleaning Complete ---\")"
      ]
    },
    {
      "cell_type": "code",
      "execution_count": null,
      "metadata": {
        "id": "550aSczryx01"
      },
      "outputs": [],
      "source": []
    },
    {
      "cell_type": "markdown",
      "metadata": {
        "_uuid": "52b308c936f5835c5cd186497fe3f96e96372483",
        "id": "n3DrcXVQuRoZ"
      },
      "source": [
        "<!-- e:\\Programming_Stuff\\Web_Development\\Fatal_Force\\Fatal_Force_(start).ipynb -->\n",
        "# Chart the Poverty Rate in each US State\n",
        "\n",
        "Create a bar chart that ranks the poverty rate from highest to lowest by US state. Which state has the highest poverty rate? Which state has the lowest poverty rate?  Bar Plot"
      ]
    },
    {
      "cell_type": "code",
      "execution_count": null,
      "metadata": {
        "id": "mGxEzMDqzqmn"
      },
      "outputs": [
        {
          "name": "stderr",
          "output_type": "stream",
          "text": [
            "C:\\Users\\shibi\\AppData\\Local\\Temp\\ipykernel_21280\\3902877784.py:8: FutureWarning: A value is trying to be set on a copy of a DataFrame or Series through chained assignment using an inplace method.\n",
            "The behavior will change in pandas 3.0. This inplace method will never work because the intermediate object on which we are setting values always behaves as a copy.\n",
            "\n",
            "For example, when doing 'df[col].method(value, inplace=True)', try using 'df.method({col: value}, inplace=True)' or df[col] = df[col].method(value) instead, to perform the operation inplace on the original object.\n",
            "\n",
            "\n",
            "  df_pct_poverty['PovertyRate'].fillna(0, inplace=True) # Re-fill any new NaNs from coercion\n"
          ]
        },
        {
          "data": {
            "image/png": "[encoded data removed]",
            "text/plain": [
              "<Figure size 1500x1000 with 1 Axes>"
            ]
          },
          "metadata": {},
          "output_type": "display_data"
        },
        {
          "name": "stdout",
          "output_type": "stream",
          "text": [
            "\n",
            "--- Poverty Rate Analysis ---\n",
            "State with the highest poverty rate: AL (0.00%)\n",
            "State with the lowest poverty rate: WY (0.00%)\n"
          ]
        }
      ],
      "source": [
        "# e:\\Programming_Stuff\\Web_Development\\Fatal_Force\\Fatal_Force_(start).ipynb\n",
        "\n",
        "df_pct_poverty.rename(columns={'Geographic Area': 'State'}, inplace=True)\n",
        "poverty_col_name = df_pct_poverty.columns[1] # Assuming the poverty rate is in the second column\n",
        "df_pct_poverty.rename(columns={poverty_col_name: 'PovertyRate'}, inplace=True)\n",
        "\n",
        "# Convert 'PovertyRate' to numeric, handling potential errors (e.g., non-numeric strings like 'N/A', '%')\n",
        "# Errors='coerce' will turn unparseable values into NaN, which we've already filled with 0.\n",
        "df_pct_poverty['PovertyRate'] = pd.to_numeric(df_pct_poverty['PovertyRate'], errors='coerce')\n",
        "df_pct_poverty['PovertyRate'].fillna(0, inplace=True) # Re-fill any new NaNs from coercion\n",
        "\n",
        "# Filter out non-state rows if any (e.g., 'United States' total, territories)\n",
        "# This assumes 'State' column contains actual US state names.\n",
        "# We might need to further refine this if the 'Geographic Area' contains cities or other aggregates.\n",
        "# For state-level analysis, we typically look for entries that are just state names, not cities.\n",
        "# For `Pct_People_Below_Poverty_Level.csv`, it's often state-level.\n",
        "\n",
        "# Sort the DataFrame by 'PovertyRate' in descending order\n",
        "df_sorted_poverty = df_pct_poverty.sort_values(by='PovertyRate', ascending=False)\n",
        "\n",
        "# Get the highest and lowest poverty rate states\n",
        "highest_poverty_state = df_sorted_poverty.iloc[0]\n",
        "lowest_poverty_state = df_sorted_poverty.iloc[-1]\n",
        "\n",
        "# --- Bar Chart Visualization ---\n",
        "plt.figure(figsize=(15, 10))\n",
        "sns.barplot(x='PovertyRate', y='State', data=df_sorted_poverty)\n",
        "plt.xlabel('Poverty Rate (%)')\n",
        "plt.ylabel('US State')\n",
        "plt.title('Poverty Rate by US State (Highest to Lowest)')\n",
        "plt.grid(axis='x', linestyle='--', alpha=0.7)\n",
        "plt.tight_layout() # Adjust layout to prevent labels from overlapping\n",
        "plt.show()\n",
        "\n",
        "print(\"\\n--- Poverty Rate Analysis ---\")\n",
        "print(f\"State with the highest poverty rate: {highest_poverty_state['State']} ({highest_poverty_state['PovertyRate']:.2f}%)\")\n",
        "print(f\"State with the lowest poverty rate: {lowest_poverty_state['State']} ({lowest_poverty_state['PovertyRate']:.2f}%)\")"
      ]
    },
    {
      "cell_type": "code",
      "execution_count": null,
      "metadata": {
        "id": "B3AM6oJQ1D_P"
      },
      "outputs": [],
      "source": []
    },
    {
      "cell_type": "markdown",
      "metadata": {
        "id": "GhUibVz5z4sn"
      },
      "source": [
        "# Chart the High School Graduation Rate by US State\n",
        "\n",
        "Show the High School Graduation Rate in ascending order of US States. Which state has the lowest high school graduation rate? Which state has the highest?"
      ]
    },
    {
      "cell_type": "code",
      "execution_count": null,
      "metadata": {
        "id": "laD6W9eG0JFR"
      },
      "outputs": [],
      "source": []
    },
    {
      "cell_type": "markdown",
      "metadata": {
        "id": "ENGTEmPQ0Rvt"
      },
      "source": [
        "# Visualise the Relationship between Poverty Rates and High School Graduation Rates\n",
        "\n",
        "#### Create a line chart with two y-axes to show if the rations of poverty and high school graduation move together.  "
      ]
    },
    {
      "cell_type": "code",
      "execution_count": null,
      "metadata": {
        "id": "MkNk5U8v0JPB"
      },
      "outputs": [],
      "source": []
    },
    {
      "cell_type": "code",
      "execution_count": null,
      "metadata": {
        "id": "urRMqQG_0Nmo"
      },
      "outputs": [],
      "source": []
    },
    {
      "cell_type": "markdown",
      "metadata": {
        "id": "Zavx_8PL1Jy9"
      },
      "source": [
        "#### Now use a Seaborn .jointplot() with a Kernel Density Estimate (KDE) and/or scatter plot to visualise the same relationship"
      ]
    },
    {
      "cell_type": "code",
      "execution_count": null,
      "metadata": {
        "id": "u77CHfdX0pjW"
      },
      "outputs": [],
      "source": []
    },
    {
      "cell_type": "code",
      "execution_count": null,
      "metadata": {
        "id": "CYy89o-u1zu0"
      },
      "outputs": [],
      "source": []
    },
    {
      "cell_type": "markdown",
      "metadata": {
        "id": "PXNFQmHl10Fx"
      },
      "source": [
        "#### Seaborn's `.lmplot()` or `.regplot()` to show a linear regression between the poverty ratio and the high school graduation ratio. "
      ]
    },
    {
      "cell_type": "code",
      "execution_count": null,
      "metadata": {
        "id": "F1xrjFgT1znI"
      },
      "outputs": [],
      "source": []
    },
    {
      "cell_type": "markdown",
      "metadata": {
        "id": "QJTbZZKg0p6i"
      },
      "source": [
        "# Create a Bar Chart with Subsections Showing the Racial Makeup of Each US State\n",
        "\n",
        "Visualise the share of the white, black, hispanic, asian and native american population in each US State using a bar chart with sub sections. "
      ]
    },
    {
      "cell_type": "code",
      "execution_count": null,
      "metadata": {
        "id": "YQbXb6Ex09D9"
      },
      "outputs": [],
      "source": []
    },
    {
      "cell_type": "code",
      "execution_count": null,
      "metadata": {
        "id": "LqrimlLo09Na"
      },
      "outputs": [],
      "source": []
    },
    {
      "cell_type": "markdown",
      "metadata": {
        "_uuid": "77493cfd86a031612be8fb8d60f27713e74e6d80",
        "id": "K7xvQXkjuRo7"
      },
      "source": [
        "# Create Donut Chart by of People Killed by Race\n",
        "\n",
        "Hint: Use `.value_counts()`"
      ]
    },
    {
      "cell_type": "code",
      "execution_count": null,
      "metadata": {
        "id": "1nOafPdy1u9Z"
      },
      "outputs": [],
      "source": []
    },
    {
      "cell_type": "code",
      "execution_count": null,
      "metadata": {
        "id": "YN3hzJTe1vHJ"
      },
      "outputs": [],
      "source": []
    },
    {
      "cell_type": "markdown",
      "metadata": {
        "id": "kr-8Rezn3Bep"
      },
      "source": [
        "# Create a Chart Comparing the Total Number of Deaths of Men and Women\n",
        "\n",
        "Use `df_fatalities` to illustrate how many more men are killed compared to women. "
      ]
    },
    {
      "cell_type": "code",
      "execution_count": null,
      "metadata": {
        "id": "joH1L4303BsJ"
      },
      "outputs": [],
      "source": []
    },
    {
      "cell_type": "code",
      "execution_count": null,
      "metadata": {
        "id": "X4MrMkVa3MTk"
      },
      "outputs": [],
      "source": []
    },
    {
      "cell_type": "markdown",
      "metadata": {
        "_uuid": "cd1531c8421bfb6967cebf7039056779f9b960a6",
        "id": "ZxbBdvM0uRpQ"
      },
      "source": [
        "# Create a Box Plot Showing the Age and Manner of Death\n",
        "\n",
        "Break out the data by gender using `df_fatalities`. Is there a difference between men and women in the manner of death? "
      ]
    },
    {
      "cell_type": "code",
      "execution_count": null,
      "metadata": {
        "id": "WdPPZLJY2shA"
      },
      "outputs": [],
      "source": []
    },
    {
      "cell_type": "code",
      "execution_count": null,
      "metadata": {
        "id": "tpPq4uFc2sql"
      },
      "outputs": [],
      "source": []
    },
    {
      "cell_type": "code",
      "execution_count": null,
      "metadata": {
        "id": "EnFbXlRm3XK6"
      },
      "outputs": [],
      "source": []
    },
    {
      "cell_type": "markdown",
      "metadata": {
        "id": "h1pAgkyb3Xb0"
      },
      "source": [
        "# Were People Armed? \n",
        "\n",
        "In what percentage of police killings were people armed? Create chart that show what kind of weapon (if any) the deceased was carrying. How many of the people killed by police were armed with guns versus unarmed? "
      ]
    },
    {
      "cell_type": "code",
      "execution_count": null,
      "metadata": {
        "id": "0d9B3Pec4TdM"
      },
      "outputs": [],
      "source": []
    },
    {
      "cell_type": "code",
      "execution_count": null,
      "metadata": {
        "id": "vdGTO3pW4Tp5"
      },
      "outputs": [],
      "source": []
    },
    {
      "cell_type": "code",
      "execution_count": null,
      "metadata": {
        "id": "qnO_rckl4WuJ"
      },
      "outputs": [],
      "source": []
    },
    {
      "cell_type": "markdown",
      "metadata": {
        "id": "IgD2a5-L4W_I"
      },
      "source": [
        "# How Old Were the People Killed?"
      ]
    },
    {
      "cell_type": "markdown",
      "metadata": {
        "id": "BNPrdT-W9lf3"
      },
      "source": [
        "Work out what percentage of people killed were under 25 years old.  "
      ]
    },
    {
      "cell_type": "code",
      "execution_count": null,
      "metadata": {
        "id": "zSyDgzb542O9"
      },
      "outputs": [],
      "source": []
    },
    {
      "cell_type": "markdown",
      "metadata": {
        "id": "5XrAD_ey9qBB"
      },
      "source": [
        "Create a histogram and KDE plot that shows the distribution of ages of the people killed by police. "
      ]
    },
    {
      "cell_type": "code",
      "execution_count": null,
      "metadata": {
        "id": "U6B1Qp7l42H8"
      },
      "outputs": [],
      "source": []
    },
    {
      "cell_type": "markdown",
      "metadata": {
        "id": "zcqqPDo79rTx"
      },
      "source": [
        "Create a seperate KDE plot for each race. Is there a difference between the distributions? "
      ]
    },
    {
      "cell_type": "code",
      "execution_count": null,
      "metadata": {
        "id": "ubUnMjok43Zo"
      },
      "outputs": [],
      "source": []
    },
    {
      "cell_type": "markdown",
      "metadata": {
        "id": "JkcHvMUt43uE"
      },
      "source": [
        "# Race of People Killed\n",
        "\n",
        "Create a chart that shows the total number of people killed by race. "
      ]
    },
    {
      "cell_type": "code",
      "execution_count": null,
      "metadata": {
        "id": "e8wZvBrt5BEb"
      },
      "outputs": [],
      "source": []
    },
    {
      "cell_type": "code",
      "execution_count": null,
      "metadata": {
        "id": "_aqN0wC45BOl"
      },
      "outputs": [],
      "source": []
    },
    {
      "cell_type": "markdown",
      "metadata": {
        "id": "SJaNm4rC5nWm"
      },
      "source": [
        "# Mental Illness and Police Killings\n",
        "\n",
        "What percentage of people killed by police have been diagnosed with a mental illness?"
      ]
    },
    {
      "cell_type": "code",
      "execution_count": null,
      "metadata": {
        "id": "dbuGvCnN5ytC"
      },
      "outputs": [],
      "source": []
    },
    {
      "cell_type": "code",
      "execution_count": null,
      "metadata": {
        "id": "BsKDVLiY5CP_"
      },
      "outputs": [],
      "source": []
    },
    {
      "cell_type": "markdown",
      "metadata": {
        "id": "R0WSPeKD5Cir"
      },
      "source": [
        "# In Which Cities Do the Most Police Killings Take Place?\n",
        "\n",
        "Create a chart ranking the top 10 cities with the most police killings. Which cities are the most dangerous?  "
      ]
    },
    {
      "cell_type": "code",
      "execution_count": null,
      "metadata": {
        "id": "NYVwo3qy5UV3"
      },
      "outputs": [],
      "source": []
    },
    {
      "cell_type": "code",
      "execution_count": null,
      "metadata": {
        "id": "T_FU4GFk5Upa"
      },
      "outputs": [],
      "source": []
    },
    {
      "cell_type": "markdown",
      "metadata": {
        "id": "AqcOW6ca8JMD"
      },
      "source": [
        "# Rate of Death by Race\n",
        "\n",
        "Find the share of each race in the top 10 cities. Contrast this with the top 10 cities of police killings to work out the rate at which people are killed by race for each city. "
      ]
    },
    {
      "cell_type": "code",
      "execution_count": null,
      "metadata": {
        "id": "FkjAUlKy8I2g"
      },
      "outputs": [],
      "source": []
    },
    {
      "cell_type": "code",
      "execution_count": null,
      "metadata": {
        "id": "dA3Hs9b55V59"
      },
      "outputs": [],
      "source": []
    },
    {
      "cell_type": "markdown",
      "metadata": {
        "id": "1HUJksrI5WFb"
      },
      "source": [
        "# Create a Choropleth Map of Police Killings by US State\n",
        "\n",
        "Which states are the most dangerous? Compare your map with your previous chart. Are these the same states with high degrees of poverty? "
      ]
    },
    {
      "cell_type": "code",
      "execution_count": null,
      "metadata": {
        "id": "u3UuX4Yo5dBA"
      },
      "outputs": [],
      "source": []
    },
    {
      "cell_type": "code",
      "execution_count": null,
      "metadata": {
        "id": "Y6VLPDeN5dKO"
      },
      "outputs": [],
      "source": []
    },
    {
      "cell_type": "markdown",
      "metadata": {
        "id": "37UsmVYF6hA2"
      },
      "source": [
        "# Number of Police Killings Over Time\n",
        "\n",
        "Analyse the Number of Police Killings over Time. Is there a trend in the data? "
      ]
    },
    {
      "cell_type": "code",
      "execution_count": null,
      "metadata": {
        "id": "nITf1IhP6gpI"
      },
      "outputs": [],
      "source": []
    },
    {
      "cell_type": "code",
      "execution_count": null,
      "metadata": {
        "id": "Q_vxjD_A7JRh"
      },
      "outputs": [],
      "source": []
    },
    {
      "cell_type": "code",
      "execution_count": null,
      "metadata": {
        "id": "mOqtie707JU8"
      },
      "outputs": [],
      "source": []
    },
    {
      "cell_type": "code",
      "execution_count": null,
      "metadata": {
        "id": "5fjhL8Lk7JKa"
      },
      "outputs": [],
      "source": []
    },
    {
      "cell_type": "markdown",
      "metadata": {
        "id": "9o6uLFpS61nw"
      },
      "source": [
        "# Epilogue\n",
        "\n",
        "Now that you have analysed the data yourself, read [The Washington Post's analysis here](https://www.washingtonpost.com/graphics/investigations/police-shootings-database/)."
      ]
    },
    {
      "cell_type": "code",
      "execution_count": null,
      "metadata": {
        "id": "8PjgzuNa61I1"
      },
      "outputs": [],
      "source": []
    }
  ],
  "metadata": {
    "colab": {
      "name": "Fatal Force (start).ipynb",
      "provenance": []
    },
    "kernelspec": {
      "display_name": "base",
      "language": "python",
      "name": "python3"
    },
    "language_info": {
      "codemirror_mode": {
        "name": "ipython",
        "version": 3
      },
      "file_extension": ".py",
      "mimetype": "text/x-python",
      "name": "python",
      "nbconvert_exporter": "python",
      "pygments_lexer": "ipython3",
      "version": "3.13.2"
    }
  },
  "nbformat": 4,
  "nbformat_minor": 0
}
